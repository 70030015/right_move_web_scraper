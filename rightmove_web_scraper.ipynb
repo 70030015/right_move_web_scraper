{
 "cells": [
  {
   "cell_type": "markdown",
   "metadata": {},
   "source": [
    "## Required imports"
   ]
  },
  {
   "cell_type": "code",
   "execution_count": 204,
   "metadata": {
    "collapsed": true
   },
   "outputs": [],
   "source": [
    "# imports\n",
    "from lxml import html, etree\n",
    "import requests\n",
    "import pandas as pd\n",
    "import datetime as dt"
   ]
  },
  {
   "cell_type": "markdown",
   "metadata": {},
   "source": [
    "## Function"
   ]
  },
  {
   "cell_type": "code",
   "execution_count": 205,
   "metadata": {
    "collapsed": false
   },
   "outputs": [],
   "source": [
    "def rightmove_webscrape(rightmove_url):\n",
    "    \n",
    "# Get the start & end of the web url around the index value\n",
    "    start,end = rightmove_url.split('&index=')\n",
    "    url_start = start+'&index='\n",
    "    url_end = end[1:]\n",
    "    \n",
    "# Initialise variables\n",
    "    price_pcm=[]\n",
    "    titles=[]\n",
    "    addresses=[]\n",
    "    weblinks=[]\n",
    "    page_counts=[]\n",
    "    \n",
    "# Initialise pandas DataFrame for results.\n",
    "    df=pd.DataFrame(columns=['price','type','address','url'])\n",
    "\n",
    "# Get the total number of results from the search\n",
    "    page = requests.get(rightmove_url)\n",
    "    tree = html.fromstring(page.content)\n",
    "    xp_result_count = '//span[@class=\"searchHeader-resultCount\"]/text()'\n",
    "    result_count = int(tree.xpath(xp_result_count)[0].replace(\",\", \"\"))\n",
    "    \n",
    "# Turn the total number of search results into number of iterations for the loop\n",
    "    loop_count = result_count/24\n",
    "    if result_count%24>0:\n",
    "        loop_count = loop_count+1\n",
    "        \n",
    "# Set the Xpath variables for the loop\n",
    "    xp_prices = '//span[@class=\"propertyCard-priceValue\"]/text()'\n",
    "    xp_titles = '//div[@class=\"propertyCard-details\"]//a[@class=\"propertyCard-link\"]//h2[@class=\"propertyCard-title\"]/text()'\n",
    "    xp_addresses = '//address[@class=\"propertyCard-address\"]/text()'\n",
    "    xp_weblinks = '//div[@class=\"propertyCard-details\"]//a[@class=\"propertyCard-link\"]/@href'\n",
    "\n",
    "# Start the loop through the search result web pages\n",
    "    for pages in range(0,loop_count,1):\n",
    "        rightmove_url = url_start+str(pages*24)+url_end\n",
    "        page = requests.get(rightmove_url)\n",
    "        tree = html.fromstring(page.content)\n",
    "        \n",
    "# Reset variables\n",
    "        price_pcm=[]\n",
    "        titles=[]\n",
    "        addresses=[]\n",
    "        weblinks=[]\n",
    "\n",
    "# Create data lists from Xpaths\n",
    "        for val in tree.xpath(xp_prices):\n",
    "            price_pcm.append(val)\n",
    "        for val in tree.xpath(xp_titles):\n",
    "            titles.append(val)\n",
    "        for val in tree.xpath(xp_addresses):\n",
    "            addresses.append(val)\n",
    "        for val in tree.xpath(xp_weblinks):\n",
    "            weblinks.append(val)\n",
    "\n",
    "# Convert data to temporary DataFrame\n",
    "        data = [price_pcm, titles, addresses, weblinks]\n",
    "        temp_df= pd.DataFrame(data)\n",
    "        temp_df = temp_df.transpose()\n",
    "        temp_df.columns=['price','type','address','url']\n",
    "        \n",
    "# Drop empty rows from DataFrame which come from placeoholders in html file.\n",
    "        temp_df = temp_df[temp_df.url != '/property-for-sale/property-0.html']\n",
    "    \n",
    "# Join temporary DataFrame to main results DataFrame.\n",
    "        frames = [df,temp_df]\n",
    "        df = pd.concat(frames)\n",
    "\n",
    "# Renumber results DataFrame index to remove duplicate index values.\n",
    "    df = df.reset_index(drop=True)\n",
    "\n",
    "# Convert price column to numeric values for analysis.\n",
    "    df.price.replace(regex=True,inplace=True,to_replace=r'\\D',value=r'')\n",
    "    df.price=pd.to_numeric(df.price)\n",
    "\n",
    "# Extract postcode areas to separate column.\n",
    "    df['postcode'] = df['address'].str.extract(r'\\b([A-Za-z][A-Za-z]?[0-9][0-9]?[A-Za-z]?)\\b',expand=True)\n",
    "    \n",
    "# Extract number of bedrooms from 'type' column.\n",
    "    df['number_bedrooms'] = df.type.str.extract(r'\\b([\\d][\\d]?)\\b',expand=True)\n",
    "    df.loc[df['type'].str.contains('studio',case=False),'number_bedrooms']=0\n",
    "\n",
    "# Add in date column with date website was queried (i.e. today's date).\n",
    "    now = dt.datetime.today().strftime(\"%d/%m/%Y\")\n",
    "    df['date'] = now\n",
    "\n",
    "# Optional line to export the results to CSV if you wish to inspect them in an alternative program.\n",
    "#     df.to_csv('rightmove_df.csv',encoding='utf-8')\n",
    " \n",
    "    return df"
   ]
  },
  {
   "cell_type": "markdown",
   "metadata": {},
   "source": [
    "## Using the function"
   ]
  },
  {
   "cell_type": "code",
   "execution_count": 206,
   "metadata": {
    "collapsed": false
   },
   "outputs": [
    {
     "data": {
      "text/plain": [
       "'http://www.rightmove.co.uk/property-to-rent/find.html?locationIdentifier=REGION%5E70417&numberOfPropertiesPerPage=24&radius=0.0&sortType=6&index=0&propertyTypes=detached%2Csemi-detached%2Cterraced%2Cflat%2Cbungalow&maxDaysSinceAdded=7&includeLetAgreed=false&viewType=LIST&currencyCode=GBP'"
      ]
     },
     "execution_count": 206,
     "metadata": {},
     "output_type": "execute_result"
    }
   ],
   "source": [
    "# Example query: London fields, to rent, added last 7 days:\n",
    "'http://www.rightmove.co.uk/property-to-rent/find.html?locationIdentifier=REGION%5E70417&numberOfPropertiesPerPage=24&radius=0.0&sortType=6&index=0&propertyTypes=detached%2Csemi-detached%2Cterraced%2Cflat%2Cbungalow&maxDaysSinceAdded=7&includeLetAgreed=false&viewType=LIST&currencyCode=GBP'"
   ]
  },
  {
   "cell_type": "code",
   "execution_count": 207,
   "metadata": {
    "collapsed": false
   },
   "outputs": [
    {
     "data": {
      "text/plain": [
       "'http://www.rightmove.co.uk/property-to-rent/find.html?locationIdentifier=REGION%5E87490&numberOfPropertiesPerPage=24&radius=0.0&sortType=6&index=0&propertyTypes=detached%2Csemi-detached%2Cterraced%2Cflat%2Cbungalow&maxDaysSinceAdded=1&includeLetAgreed=false&viewType=LIST&currencyCode=GBP'"
      ]
     },
     "execution_count": 207,
     "metadata": {},
     "output_type": "execute_result"
    }
   ],
   "source": [
    "# Example query: All London, to rent, added today:\n",
    "'http://www.rightmove.co.uk/property-to-rent/find.html?locationIdentifier=REGION%5E87490&numberOfPropertiesPerPage=24&radius=0.0&sortType=6&index=0&propertyTypes=detached%2Csemi-detached%2Cterraced%2Cflat%2Cbungalow&maxDaysSinceAdded=1&includeLetAgreed=false&viewType=LIST&currencyCode=GBP'"
   ]
  },
  {
   "cell_type": "code",
   "execution_count": 208,
   "metadata": {
    "collapsed": true
   },
   "outputs": [],
   "source": [
    "# Create a search on the rightmove.co.uk website, then copy and paste the url from the first results page to this variable:\n",
    "rightmove_url = 'http://www.rightmove.co.uk/property-to-rent/find.html?locationIdentifier=REGION%5E87490&numberOfPropertiesPerPage=24&radius=0.0&sortType=6&index=0&propertyTypes=detached%2Csemi-detached%2Cterraced%2Cflat%2Cbungalow&maxDaysSinceAdded=1&includeLetAgreed=false&viewType=LIST&currencyCode=GBP'"
   ]
  },
  {
   "cell_type": "code",
   "execution_count": 209,
   "metadata": {
    "collapsed": false
   },
   "outputs": [
    {
     "data": {
      "text/html": [
       "<div>\n",
       "<table border=\"1\" class=\"dataframe\">\n",
       "  <thead>\n",
       "    <tr style=\"text-align: right;\">\n",
       "      <th></th>\n",
       "      <th>price</th>\n",
       "      <th>type</th>\n",
       "      <th>address</th>\n",
       "      <th>url</th>\n",
       "      <th>postcode</th>\n",
       "      <th>number_bedrooms</th>\n",
       "      <th>date</th>\n",
       "    </tr>\n",
       "  </thead>\n",
       "  <tbody>\n",
       "    <tr>\n",
       "      <th>0</th>\n",
       "      <td>1050.0</td>\n",
       "      <td>1 bedroom flat</td>\n",
       "      <td>Grove Hill,London,E18</td>\n",
       "      <td>/property-to-rent/property-45094061.html</td>\n",
       "      <td>E18</td>\n",
       "      <td>1</td>\n",
       "      <td>17/08/2016</td>\n",
       "    </tr>\n",
       "    <tr>\n",
       "      <th>1</th>\n",
       "      <td>563.0</td>\n",
       "      <td>Studio flat</td>\n",
       "      <td>Ravenscroft Road, London, W4</td>\n",
       "      <td>/property-to-rent/property-60806813.html</td>\n",
       "      <td>W4</td>\n",
       "      <td>0</td>\n",
       "      <td>17/08/2016</td>\n",
       "    </tr>\n",
       "    <tr>\n",
       "      <th>2</th>\n",
       "      <td>3163.0</td>\n",
       "      <td>2 bedroom apartment</td>\n",
       "      <td>Hamlet Gardens, London, W6</td>\n",
       "      <td>/property-to-rent/property-43838709.html</td>\n",
       "      <td>W6</td>\n",
       "      <td>2</td>\n",
       "      <td>17/08/2016</td>\n",
       "    </tr>\n",
       "    <tr>\n",
       "      <th>3</th>\n",
       "      <td>2492.0</td>\n",
       "      <td>4 bedroom apartment</td>\n",
       "      <td>Chatsworth Road, E5 0LA</td>\n",
       "      <td>/property-to-rent/property-41781018.html</td>\n",
       "      <td>E5</td>\n",
       "      <td>4</td>\n",
       "      <td>17/08/2016</td>\n",
       "    </tr>\n",
       "    <tr>\n",
       "      <th>4</th>\n",
       "      <td>1899.0</td>\n",
       "      <td>3 bedroom flat</td>\n",
       "      <td>Blackshaw Road, London, SW17</td>\n",
       "      <td>/property-to-rent/property-61223090.html</td>\n",
       "      <td>SW17</td>\n",
       "      <td>3</td>\n",
       "      <td>17/08/2016</td>\n",
       "    </tr>\n",
       "  </tbody>\n",
       "</table>\n",
       "</div>"
      ],
      "text/plain": [
       "    price                 type                       address  \\\n",
       "0  1050.0       1 bedroom flat         Grove Hill,London,E18   \n",
       "1   563.0          Studio flat  Ravenscroft Road, London, W4   \n",
       "2  3163.0  2 bedroom apartment    Hamlet Gardens, London, W6   \n",
       "3  2492.0  4 bedroom apartment       Chatsworth Road, E5 0LA   \n",
       "4  1899.0       3 bedroom flat  Blackshaw Road, London, SW17   \n",
       "\n",
       "                                        url postcode number_bedrooms  \\\n",
       "0  /property-to-rent/property-45094061.html      E18               1   \n",
       "1  /property-to-rent/property-60806813.html       W4               0   \n",
       "2  /property-to-rent/property-43838709.html       W6               2   \n",
       "3  /property-to-rent/property-41781018.html       E5               4   \n",
       "4  /property-to-rent/property-61223090.html     SW17               3   \n",
       "\n",
       "         date  \n",
       "0  17/08/2016  \n",
       "1  17/08/2016  \n",
       "2  17/08/2016  \n",
       "3  17/08/2016  \n",
       "4  17/08/2016  "
      ]
     },
     "execution_count": 209,
     "metadata": {},
     "output_type": "execute_result"
    }
   ],
   "source": [
    "# Run the function \n",
    "df = rightmove_webscrape(rightmove_url)\n",
    "\n",
    "# View the first few results\n",
    "df.head()"
   ]
  },
  {
   "cell_type": "markdown",
   "metadata": {},
   "source": [
    "## Analysis"
   ]
  },
  {
   "cell_type": "code",
   "execution_count": 210,
   "metadata": {
    "collapsed": false
   },
   "outputs": [
    {
     "data": {
      "text/plain": [
       "array(['1', 0, '2', '4', '3', '6', nan, '5', '8', '15', '7'], dtype=object)"
      ]
     },
     "execution_count": 210,
     "metadata": {},
     "output_type": "execute_result"
    }
   ],
   "source": [
    "df.number_bedrooms.unique()"
   ]
  },
  {
   "cell_type": "code",
   "execution_count": 219,
   "metadata": {
    "collapsed": false
   },
   "outputs": [
    {
     "data": {
      "text/plain": [
       "array(['Property', 'Maisonette', 'Detached house', 'Flat share',\n",
       "       'Semi-detached bungalow', 'House', 'Terraced house',\n",
       "       'End of terrace house'], dtype=object)"
      ]
     },
     "execution_count": 219,
     "metadata": {},
     "output_type": "execute_result"
    }
   ],
   "source": [
    "# See which 'types' do not have bedroom number extracted\n",
    "df[df.number_bedrooms.isnull()].type.unique()"
   ]
  },
  {
   "cell_type": "code",
   "execution_count": 230,
   "metadata": {
    "collapsed": false
   },
   "outputs": [
    {
     "name": "stdout",
     "output_type": "stream",
     "text": [
      "most expensive: \n",
      "820    108333.0\n",
      "Name: price, dtype: float64\n"
     ]
    }
   ],
   "source": [
    "print 'most expensive: '\n",
    "print df[df.price==df.price.max()].price"
   ]
  },
  {
   "cell_type": "code",
   "execution_count": 245,
   "metadata": {
    "collapsed": false
   },
   "outputs": [
    {
     "data": {
      "text/html": [
       "<div>\n",
       "<table border=\"1\" class=\"dataframe\">\n",
       "  <thead>\n",
       "    <tr style=\"text-align: right;\">\n",
       "      <th></th>\n",
       "      <th>mean</th>\n",
       "      <th>count</th>\n",
       "    </tr>\n",
       "    <tr>\n",
       "      <th>number_bedrooms</th>\n",
       "      <th></th>\n",
       "      <th></th>\n",
       "    </tr>\n",
       "  </thead>\n",
       "  <tbody>\n",
       "    <tr>\n",
       "      <th>0</th>\n",
       "      <td>1238.970684</td>\n",
       "      <td>307</td>\n",
       "    </tr>\n",
       "    <tr>\n",
       "      <th>1</th>\n",
       "      <td>1635.940684</td>\n",
       "      <td>1315</td>\n",
       "    </tr>\n",
       "    <tr>\n",
       "      <th>15</th>\n",
       "      <td>108333.000000</td>\n",
       "      <td>1</td>\n",
       "    </tr>\n",
       "    <tr>\n",
       "      <th>2</th>\n",
       "      <td>2281.295254</td>\n",
       "      <td>1812</td>\n",
       "    </tr>\n",
       "    <tr>\n",
       "      <th>3</th>\n",
       "      <td>3243.215686</td>\n",
       "      <td>612</td>\n",
       "    </tr>\n",
       "    <tr>\n",
       "      <th>4</th>\n",
       "      <td>3540.961702</td>\n",
       "      <td>235</td>\n",
       "    </tr>\n",
       "    <tr>\n",
       "      <th>5</th>\n",
       "      <td>5789.080645</td>\n",
       "      <td>62</td>\n",
       "    </tr>\n",
       "    <tr>\n",
       "      <th>6</th>\n",
       "      <td>4962.066667</td>\n",
       "      <td>15</td>\n",
       "    </tr>\n",
       "    <tr>\n",
       "      <th>7</th>\n",
       "      <td>17992.000000</td>\n",
       "      <td>1</td>\n",
       "    </tr>\n",
       "    <tr>\n",
       "      <th>8</th>\n",
       "      <td>10299.000000</td>\n",
       "      <td>2</td>\n",
       "    </tr>\n",
       "  </tbody>\n",
       "</table>\n",
       "</div>"
      ],
      "text/plain": [
       "                          mean  count\n",
       "number_bedrooms                      \n",
       "0                  1238.970684    307\n",
       "1                  1635.940684   1315\n",
       "15               108333.000000      1\n",
       "2                  2281.295254   1812\n",
       "3                  3243.215686    612\n",
       "4                  3540.961702    235\n",
       "5                  5789.080645     62\n",
       "6                  4962.066667     15\n",
       "7                 17992.000000      1\n",
       "8                 10299.000000      2"
      ]
     },
     "execution_count": 245,
     "metadata": {},
     "output_type": "execute_result"
    }
   ],
   "source": [
    "# Average prices by number of bedrooms\n",
    "pd.pivot_table(df,values='price',index='number_bedrooms',aggfunc=('mean','count'),dropna=True)"
   ]
  },
  {
   "cell_type": "code",
   "execution_count": 244,
   "metadata": {
    "collapsed": false
   },
   "outputs": [
    {
     "data": {
      "text/plain": [
       "price              4400\n",
       "type               4402\n",
       "address            4402\n",
       "url                4402\n",
       "postcode           3278\n",
       "number_bedrooms    4364\n",
       "date               4402\n",
       "dtype: int64"
      ]
     },
     "execution_count": 244,
     "metadata": {},
     "output_type": "execute_result"
    }
   ],
   "source": [
    "df.count()"
   ]
  },
  {
   "cell_type": "code",
   "execution_count": 221,
   "metadata": {
    "collapsed": false
   },
   "outputs": [
    {
     "name": "stdout",
     "output_type": "stream",
     "text": [
      "Average rent pcm - all results:\n",
      "\n",
      "£ 2297.13\n"
     ]
    }
   ],
   "source": [
    "print 'Average rent pcm - all results:'\n",
    "print\n",
    "print '£',round(df.price.mean(),2)"
   ]
  },
  {
   "cell_type": "code",
   "execution_count": 220,
   "metadata": {
    "collapsed": false
   },
   "outputs": [
    {
     "data": {
      "text/plain": [
       "array(['E18', 'W4', 'W6', 'E5', 'SW17', 'W2', 'NW4', 'SE16', 'N21', 'N13',\n",
       "       nan, 'E2', 'E15', 'NW3', 'EC1M', 'E1W', 'W9', 'N1', 'E14', 'SW7',\n",
       "       'SW1W', 'SE1', 'W10', 'SW1Y', 'SE18', 'E3', 'WC1R', 'W1U', 'N12',\n",
       "       'SW6', 'SW13', 'EC1V', 'SW9', 'W8', 'SE13', 'W12', 'W1H', 'SW10',\n",
       "       'SW2', 'W5', 'N10', 'SE11', 'W1K', 'SE17', 'SW8', 'NW8', 'SW3',\n",
       "       'E1', 'SE26', 'SW15', 'SW1E', 'W1W', 'NW6', 'SW4', 'N7', 'E16',\n",
       "       'E12', 'SE25', 'N8', 'SE10', 'SW16', 'SE9', 'NW1', 'SW1P', 'W3',\n",
       "       'SM4', 'WC2E', 'SW19', 'NW2', 'SW11', 'SW1V', 'W1S', 'E9', 'SW18',\n",
       "       'WC2H', 'E8', 'W1', 'NW11', 'SE15', 'SW1X', 'SE28', 'W14', 'WC1H',\n",
       "       'E10', 'N19', 'E11', 'NW10', 'N20', 'N4', 'E7', 'E17', 'N9', 'NW9',\n",
       "       'EN2', 'SE6', 'N5', 'WC1', 'WC1E', 'WC2R', 'SW12', 'SE3', 'E4',\n",
       "       'Nw4', 'EC2Y', 'SW14', 'WC2B', 'SE5', 'SW20', 'SE21', 'SE27', 'N6',\n",
       "       'SW1', 'N17', 'N2', 'W1G', 'N16', 'N11', 'N18', 'EN1', 'EC2A',\n",
       "       'SE23', 'NW7', 'SE24', 'N3', 'W7', 'SW5', 'SE4', 'SE8', 'SE14',\n",
       "       'SE19', 'N14', 'SE7', 'N22', 'E6', 'SE20', 'NW5', 'W1J', 'SE2',\n",
       "       'W11', 'W13', 'WC1X', 'EC1R', 'SE22', 'W1F', 'SW1H', 'N15', 'EC1N',\n",
       "       'EC1Y', 'EC4M', 'WC2N', 'W1D', 'W1T', 'E20', 'WC2A', 'SW1A', 'WC2',\n",
       "       'en3', 'E13', 'BR3', 'EC4', 'A10', 'SE12', 'EC4V', 'WC1N', 'HA8',\n",
       "       'TW8'], dtype=object)"
      ]
     },
     "execution_count": 220,
     "metadata": {},
     "output_type": "execute_result"
    }
   ],
   "source": [
    "df.postcode.unique()"
   ]
  },
  {
   "cell_type": "markdown",
   "metadata": {},
   "source": [
    "## Optional error checking"
   ]
  },
  {
   "cell_type": "code",
   "execution_count": 131,
   "metadata": {
    "collapsed": true
   },
   "outputs": [],
   "source": [
    "# Below is a method for exporting the full html text from the url if you wish to inspect it in detail.\n",
    "page = requests.get(rightmove_url)\n",
    "tree = html.fromstring(page.content)\n",
    "html_text=etree.tostring(tree)\n",
    "file = open(\"html.txt\", \"w\")\n",
    "file.write(html_text)\n",
    "file.close()"
   ]
  }
 ],
 "metadata": {
  "kernelspec": {
   "display_name": "Python 2",
   "language": "python",
   "name": "python2"
  },
  "language_info": {
   "codemirror_mode": {
    "name": "ipython",
    "version": 2
   },
   "file_extension": ".py",
   "mimetype": "text/x-python",
   "name": "python",
   "nbconvert_exporter": "python",
   "pygments_lexer": "ipython2",
   "version": "2.7.12"
  }
 },
 "nbformat": 4,
 "nbformat_minor": 0
}
