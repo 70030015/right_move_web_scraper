{
 "cells": [
  {
   "cell_type": "code",
   "execution_count": 77,
   "metadata": {
    "collapsed": true
   },
   "outputs": [],
   "source": [
    "# imports\n",
    "from lxml import html, etree\n",
    "import requests\n",
    "import pandas as pd\n",
    "import datetime as dt"
   ]
  },
  {
   "cell_type": "code",
   "execution_count": 79,
   "metadata": {
    "collapsed": false
   },
   "outputs": [],
   "source": [
    "def get_all_pages(webpage):\n",
    "    \n",
    "# Get the start & end of the web url around the index value\n",
    "    start,end = webpage.split('&index=')\n",
    "    url_start = start+'&index='\n",
    "    url_end = end[1:]\n",
    "    \n",
    "# Initialise variables\n",
    "    i=0\n",
    "    j=str(i)\n",
    "    result_count=1\n",
    "    price_pcm=[]\n",
    "    titles=[]\n",
    "    addresses=[]\n",
    "    weblinks=[]\n",
    "    page_counts=[]\n",
    "    df=pd.DataFrame(columns=['price','type','address','url'])\n",
    "\n",
    "# Get the total number of results from the search\n",
    "    page = requests.get(webpage)\n",
    "    tree = html.fromstring(page.content)\n",
    "    xp_result_count = '//span[@class=\"searchHeader-resultCount\"]/text()'\n",
    "    result_count = int(tree.xpath(xp_result_count)[0])\n",
    "    \n",
    "# Turn the total number of search results into number of iterations for the loop\n",
    "    loop_count = result_count/24\n",
    "    if result_count%24>0:\n",
    "        loop_count = loop_count+1\n",
    "        \n",
    "# Set the Xpath variables for the loop\n",
    "    xp_prices = '//span[@class=\"propertyCard-priceValue\"]/text()'\n",
    "    xp_titles = '//div[@class=\"propertyCard-details\"]//a[@class=\"propertyCard-link\"]//h2[@class=\"propertyCard-title\"]/text()'\n",
    "    xp_addresses = '//address[@class=\"propertyCard-address\"]/text()'\n",
    "    xp_weblinks = '//div[@class=\"propertyCard-details\"]//a[@class=\"propertyCard-link\"]/@href'\n",
    "\n",
    "# Start the loop through the search result web pages\n",
    "    for pages in range(0,loop_count,1):\n",
    "        webpage = url_start+str(pages*24)+url_end\n",
    "        page = requests.get(webpage)\n",
    "        tree = html.fromstring(page.content)\n",
    "        \n",
    "# Reset variables\n",
    "        price_pcm=[]\n",
    "        titles=[]\n",
    "        addresses=[]\n",
    "        weblinks=[]\n",
    "\n",
    "# Create data lists from Xpaths\n",
    "        for val in tree.xpath(xp_prices):\n",
    "            price_pcm.append(val)\n",
    "        for val in tree.xpath(xp_titles):\n",
    "            titles.append(val)\n",
    "        for val in tree.xpath(xp_addresses):\n",
    "            addresses.append(val)\n",
    "        for val in tree.xpath(xp_weblinks):\n",
    "            weblinks.append(val)\n",
    "\n",
    "        data = [price_pcm, titles, addresses, weblinks]\n",
    "        temp_df= pd.DataFrame(data)\n",
    "        temp_df = temp_df.transpose()\n",
    "        temp_df.columns=['price','type','address','url']\n",
    "        temp_df = temp_df[temp_df.url != '/property-for-sale/property-0.html'] # Drop empty rows\n",
    "               \n",
    "        \n",
    "        frames = [df,temp_df]\n",
    "        \n",
    "        df = pd.concat(frames)\n",
    "\n",
    "    df = df.reset_index(drop=True)\n",
    "    df.price.replace(regex=True,inplace=True,to_replace=r'\\D',value=r'') # Remove non-numeric string from price col\n",
    "    df.price=pd.to_numeric(df.price) # Convert price col to numeric for analysis\n",
    "    now = dt.datetime.today().strftime(\"%d/%m/%Y\")\n",
    "    df['date'] = now # Add in date column\n",
    "    df.to_csv('rightmove_df.csv',encoding='utf-8')\n",
    "    \n",
    "    return df"
   ]
  },
  {
   "cell_type": "code",
   "execution_count": 80,
   "metadata": {
    "collapsed": true
   },
   "outputs": [],
   "source": [
    "webpage = 'http://www.rightmove.co.uk/property-to-rent/find.html?locationIdentifier=REGION%5E70417&numberOfPropertiesPerPage=24&radius=0.0&sortType=6&index=0&propertyTypes=detached%2Csemi-detached%2Cterraced%2Cflat%2Cbungalow&maxDaysSinceAdded=7&includeLetAgreed=false&viewType=LIST&currencyCode=GBP'"
   ]
  },
  {
   "cell_type": "code",
   "execution_count": 81,
   "metadata": {
    "collapsed": false
   },
   "outputs": [],
   "source": [
    "df=get_all_pages(webpage)"
   ]
  },
  {
   "cell_type": "code",
   "execution_count": null,
   "metadata": {
    "collapsed": false
   },
   "outputs": [],
   "source": [
    "\n"
   ]
  },
  {
   "cell_type": "code",
   "execution_count": 82,
   "metadata": {
    "collapsed": false
   },
   "outputs": [
    {
     "data": {
      "text/html": [
       "<div>\n",
       "<table border=\"1\" class=\"dataframe\">\n",
       "  <thead>\n",
       "    <tr style=\"text-align: right;\">\n",
       "      <th></th>\n",
       "      <th>price</th>\n",
       "      <th>type</th>\n",
       "      <th>address</th>\n",
       "      <th>url</th>\n",
       "      <th>date</th>\n",
       "    </tr>\n",
       "  </thead>\n",
       "  <tbody>\n",
       "    <tr>\n",
       "      <th>0</th>\n",
       "      <td>1250</td>\n",
       "      <td>1 bedroom flat</td>\n",
       "      <td>Broadway Market,  London</td>\n",
       "      <td>/property-to-rent/property-61046081.html</td>\n",
       "      <td>09/08/2016</td>\n",
       "    </tr>\n",
       "    <tr>\n",
       "      <th>1</th>\n",
       "      <td>1625</td>\n",
       "      <td>2 bedroom maisonette</td>\n",
       "      <td>Graham Road, Hackney, E8</td>\n",
       "      <td>/property-to-rent/property-55565083.html</td>\n",
       "      <td>09/08/2016</td>\n",
       "    </tr>\n",
       "    <tr>\n",
       "      <th>2</th>\n",
       "      <td>1430</td>\n",
       "      <td>1 bedroom apartment</td>\n",
       "      <td>Sylvester Road, Hackney, London</td>\n",
       "      <td>/property-to-rent/property-43601331.html</td>\n",
       "      <td>09/08/2016</td>\n",
       "    </tr>\n",
       "    <tr>\n",
       "      <th>3</th>\n",
       "      <td>1746</td>\n",
       "      <td>2 bedroom apartment</td>\n",
       "      <td>Sylvester Path, Hackney, London</td>\n",
       "      <td>/property-to-rent/property-43600500.html</td>\n",
       "      <td>09/08/2016</td>\n",
       "    </tr>\n",
       "    <tr>\n",
       "      <th>4</th>\n",
       "      <td>1625</td>\n",
       "      <td>2 bedroom flat</td>\n",
       "      <td>Sylvester Path, Hackney, London</td>\n",
       "      <td>/property-to-rent/property-51218096.html</td>\n",
       "      <td>09/08/2016</td>\n",
       "    </tr>\n",
       "  </tbody>\n",
       "</table>\n",
       "</div>"
      ],
      "text/plain": [
       "   price                  type                          address  \\\n",
       "0   1250        1 bedroom flat         Broadway Market,  London   \n",
       "1   1625  2 bedroom maisonette         Graham Road, Hackney, E8   \n",
       "2   1430   1 bedroom apartment  Sylvester Road, Hackney, London   \n",
       "3   1746   2 bedroom apartment  Sylvester Path, Hackney, London   \n",
       "4   1625        2 bedroom flat  Sylvester Path, Hackney, London   \n",
       "\n",
       "                                        url        date  \n",
       "0  /property-to-rent/property-61046081.html  09/08/2016  \n",
       "1  /property-to-rent/property-55565083.html  09/08/2016  \n",
       "2  /property-to-rent/property-43601331.html  09/08/2016  \n",
       "3  /property-to-rent/property-43600500.html  09/08/2016  \n",
       "4  /property-to-rent/property-51218096.html  09/08/2016  "
      ]
     },
     "execution_count": 82,
     "metadata": {},
     "output_type": "execute_result"
    }
   ],
   "source": [
    "df.head()"
   ]
  },
  {
   "cell_type": "code",
   "execution_count": 83,
   "metadata": {
    "collapsed": false
   },
   "outputs": [
    {
     "data": {
      "text/plain": [
       "array(['1 bedroom flat', '2 bedroom maisonette', '1 bedroom apartment',\n",
       "       '2 bedroom apartment', '2 bedroom flat', '3 bedroom apartment',\n",
       "       'Studio flat', '3 bedroom terraced house',\n",
       "       '4 bedroom terraced house', '1 bedroom property', '3 bedroom flat',\n",
       "       '2 bedroom duplex', '1 bedroom detached house',\n",
       "       '4 bedroom apartment', '2 bedroom semi-detached house'], dtype=object)"
      ]
     },
     "execution_count": 83,
     "metadata": {},
     "output_type": "execute_result"
    }
   ],
   "source": [
    "df.type.unique()"
   ]
  },
  {
   "cell_type": "code",
   "execution_count": 59,
   "metadata": {
    "collapsed": false
   },
   "outputs": [],
   "source": []
  },
  {
   "cell_type": "code",
   "execution_count": 60,
   "metadata": {
    "collapsed": false
   },
   "outputs": [
    {
     "data": {
      "text/html": [
       "<div>\n",
       "<table border=\"1\" class=\"dataframe\">\n",
       "  <thead>\n",
       "    <tr style=\"text-align: right;\">\n",
       "      <th></th>\n",
       "      <th>price</th>\n",
       "      <th>type</th>\n",
       "      <th>address</th>\n",
       "      <th>url</th>\n",
       "    </tr>\n",
       "  </thead>\n",
       "  <tbody>\n",
       "    <tr>\n",
       "      <th>0</th>\n",
       "      <td>1250</td>\n",
       "      <td>1 bedroom flat</td>\n",
       "      <td>Broadway Market,  London</td>\n",
       "      <td>/property-to-rent/property-61046081.html</td>\n",
       "    </tr>\n",
       "    <tr>\n",
       "      <th>1</th>\n",
       "      <td>1625</td>\n",
       "      <td>2 bedroom maisonette</td>\n",
       "      <td>Graham Road, Hackney, E8</td>\n",
       "      <td>/property-to-rent/property-55565083.html</td>\n",
       "    </tr>\n",
       "    <tr>\n",
       "      <th>2</th>\n",
       "      <td>1430</td>\n",
       "      <td>1 bedroom apartment</td>\n",
       "      <td>Sylvester Road, Hackney, London</td>\n",
       "      <td>/property-to-rent/property-43601331.html</td>\n",
       "    </tr>\n",
       "    <tr>\n",
       "      <th>3</th>\n",
       "      <td>1746</td>\n",
       "      <td>2 bedroom apartment</td>\n",
       "      <td>Sylvester Path, Hackney, London</td>\n",
       "      <td>/property-to-rent/property-43600500.html</td>\n",
       "    </tr>\n",
       "    <tr>\n",
       "      <th>4</th>\n",
       "      <td>1625</td>\n",
       "      <td>2 bedroom flat</td>\n",
       "      <td>Sylvester Path, Hackney, London</td>\n",
       "      <td>/property-to-rent/property-51218096.html</td>\n",
       "    </tr>\n",
       "  </tbody>\n",
       "</table>\n",
       "</div>"
      ],
      "text/plain": [
       "   price                  type                          address  \\\n",
       "0   1250        1 bedroom flat         Broadway Market,  London   \n",
       "1   1625  2 bedroom maisonette         Graham Road, Hackney, E8   \n",
       "2   1430   1 bedroom apartment  Sylvester Road, Hackney, London   \n",
       "3   1746   2 bedroom apartment  Sylvester Path, Hackney, London   \n",
       "4   1625        2 bedroom flat  Sylvester Path, Hackney, London   \n",
       "\n",
       "                                        url  \n",
       "0  /property-to-rent/property-61046081.html  \n",
       "1  /property-to-rent/property-55565083.html  \n",
       "2  /property-to-rent/property-43601331.html  \n",
       "3  /property-to-rent/property-43600500.html  \n",
       "4  /property-to-rent/property-51218096.html  "
      ]
     },
     "execution_count": 60,
     "metadata": {},
     "output_type": "execute_result"
    }
   ],
   "source": [
    "df.head()"
   ]
  },
  {
   "cell_type": "code",
   "execution_count": 58,
   "metadata": {
    "collapsed": false
   },
   "outputs": [
    {
     "data": {
      "text/plain": [
       "price       int64\n",
       "type       object\n",
       "address    object\n",
       "url        object\n",
       "dtype: object"
      ]
     },
     "execution_count": 58,
     "metadata": {},
     "output_type": "execute_result"
    }
   ],
   "source": [
    "df.dtypes"
   ]
  },
  {
   "cell_type": "code",
   "execution_count": 301,
   "metadata": {
    "collapsed": false
   },
   "outputs": [
    {
     "data": {
      "text/plain": [
       "list"
      ]
     },
     "execution_count": 301,
     "metadata": {},
     "output_type": "execute_result"
    }
   ],
   "source": [
    "# error checking\n",
    "# method for exporting full html tyext for inspection\n",
    "page = requests.get(webpage)\n",
    "tree = html.fromstring(page.content)\n",
    "html_text=etree.tostring(tree)\n",
    "file = open(\"html.txt\", \"w\")\n",
    "file.write(html_text)\n",
    "file.close()\n",
    "xp_prices = '//span[@class=\"propertyCard-priceValue\"]/text()'\n",
    "type(tree.xpath(xp_prices))\n",
    "# error checking\n"
   ]
  }
 ],
 "metadata": {
  "kernelspec": {
   "display_name": "Python 2",
   "language": "python",
   "name": "python2"
  },
  "language_info": {
   "codemirror_mode": {
    "name": "ipython",
    "version": 2
   },
   "file_extension": ".py",
   "mimetype": "text/x-python",
   "name": "python",
   "nbconvert_exporter": "python",
   "pygments_lexer": "ipython2",
   "version": "2.7.11"
  }
 },
 "nbformat": 4,
 "nbformat_minor": 0
}
