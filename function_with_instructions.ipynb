{
 "cells": [
  {
   "cell_type": "markdown",
   "metadata": {},
   "source": [
    "#### Required imports"
   ]
  },
  {
   "cell_type": "code",
   "execution_count": 1,
   "metadata": {
    "collapsed": true
   },
   "outputs": [],
   "source": [
    "# imports\n",
    "from lxml import html, etree\n",
    "import requests\n",
    "import pandas as pd\n",
    "import datetime as dt"
   ]
  },
  {
   "cell_type": "markdown",
   "metadata": {},
   "source": [
    "## Introduction"
   ]
  },
  {
   "cell_type": "markdown",
   "metadata": {},
   "source": [
    "The purpose of this function is to scrape data from the http://www.rightmove.co.uk property website and convert it to a suitable format for analysis, saving the results as a pandas dataframe, and in a *csv* file which can be easily imported into any analytics platform.\n",
    "\n",
    "To use the function you first need to go to the rightmove website and perform a search for whatever property type you are interested in - for example, all properties to rent in London. After running the search on the website, copy the long url from the first results page and pass it into the function as the first argument. For the second argument pass either the string 'rent' or 'buy' to denote what has been searched for.\n",
    "\n",
    "Run the function with the 2 arguments as decribed and it will extract the price, property type, address details, and individual urls for each property listing. Where it finds it the function will also extract the postcode stem from the address details (e.g. 'SW1') and store this in a separate column; and extract the number of bedrooms from the property type as a separate column.\n",
    "\n",
    "If more than one page of results are returned by your rightmove search then the function will cycle through the pages collecting all the data - so give it a minute to run if your search criteria returns thousands of results!"
   ]
  },
  {
   "cell_type": "code",
   "execution_count": 2,
   "metadata": {
    "collapsed": false
   },
   "outputs": [],
   "source": [
    "def rightmove_webscrape(rightmove_url,rent_or_buy):\n",
    "    \n",
    "# Get the start & end of the web url around the index value\n",
    "    start,end = rightmove_url.split('&index=')\n",
    "    url_start = start+'&index='\n",
    "    url_end = end[1:]\n",
    "    \n",
    "# Initialise the variables which will store the data\n",
    "    price_pcm=[]\n",
    "    titles=[]\n",
    "    addresses=[]\n",
    "    weblinks=[]\n",
    "\n",
    "# Initialise a pandas DataFrame to store the results\n",
    "    df=pd.DataFrame(columns=['price','type','address','url'])\n",
    "\n",
    "# Get the total number of results returned by the search\n",
    "    page = requests.get(rightmove_url)\n",
    "    tree = html.fromstring(page.content)\n",
    "    xp_result_count = '//span[@class=\"searchHeader-resultCount\"]/text()'\n",
    "    result_count = int(tree.xpath(xp_result_count)[0].replace(\",\", \"\"))\n",
    "    \n",
    "# Convert the total number of search results into the number of iterations required for the loop\n",
    "    loop_count = result_count/24\n",
    "    if result_count%24>0:\n",
    "        loop_count = loop_count+1\n",
    "        \n",
    "# Set the Xpath variables for the loop\n",
    "    if rent_or_buy=='rent':\n",
    "        xp_prices = '//span[@class=\"propertyCard-priceValue\"]/text()'\n",
    "    elif rent_or_buy=='buy':\n",
    "        xp_prices = '//div[@class=\"propertyCard-priceValue\"]/text()'\n",
    "        \n",
    "    xp_titles = '//div[@class=\"propertyCard-details\"]//a[@class=\"propertyCard-link\"]//h2[@class=\"propertyCard-title\"]/text()'\n",
    "    xp_addresses = '//address[@class=\"propertyCard-address\"]/text()'\n",
    "    xp_weblinks = '//div[@class=\"propertyCard-details\"]//a[@class=\"propertyCard-link\"]/@href'\n",
    "\n",
    "# Start the loop through the search result web pages\n",
    "    for pages in range(0,loop_count,1):\n",
    "        rightmove_url = url_start+str(pages*24)+url_end\n",
    "        page = requests.get(rightmove_url)\n",
    "        tree = html.fromstring(page.content)\n",
    "        \n",
    "# Reset variables\n",
    "        price_pcm=[]\n",
    "        titles=[]\n",
    "        addresses=[]\n",
    "        weblinks=[]\n",
    "\n",
    "# Create data lists from Xpaths\n",
    "        for val in tree.xpath(xp_prices):\n",
    "            price_pcm.append(val)\n",
    "        for val in tree.xpath(xp_titles):\n",
    "            titles.append(val)\n",
    "        for val in tree.xpath(xp_addresses):\n",
    "            addresses.append(val)\n",
    "        for val in tree.xpath(xp_weblinks):\n",
    "            weblinks.append('http://www.rightmove.co.uk'+val)\n",
    "\n",
    "# Convert data to temporary DataFrame\n",
    "        data = [price_pcm, titles, addresses, weblinks]\n",
    "        temp_df= pd.DataFrame(data)\n",
    "        temp_df = temp_df.transpose()\n",
    "        temp_df.columns=['price','type','address','url']\n",
    "        \n",
    "# Drop empty rows from DataFrame which come from placeoholders in rightmove html\n",
    "        temp_df = temp_df[temp_df.url != 'http://www.rightmove.co.uk'+'/property-for-sale/property-0.html']\n",
    "    \n",
    "# Join temporary DataFrame to main results DataFrame\n",
    "        frames = [df,temp_df]\n",
    "        df = pd.concat(frames)\n",
    "\n",
    "# Renumber results DataFrame index to remove duplicate index values\n",
    "    df = df.reset_index(drop=True)\n",
    "\n",
    "# Convert price column to numeric values for analysis\n",
    "    df.price.replace(regex=True,inplace=True,to_replace=r'\\D',value=r'')\n",
    "    df.price=pd.to_numeric(df.price)\n",
    "\n",
    "# Extract postcode stems to a separate column\n",
    "    df['postcode'] = df['address'].str.extract(r'\\b([A-Za-z][A-Za-z]?[0-9][0-9]?[A-Za-z]?)\\b',expand=True)\n",
    "    \n",
    "# Extract number of bedrooms from 'type' to a separate column\n",
    "    df['number_bedrooms'] = df.type.str.extract(r'\\b([\\d][\\d]?)\\b',expand=True)\n",
    "    df.loc[df['type'].str.contains('studio',case=False),'number_bedrooms']=0\n",
    "\n",
    "# Add in search_date column to record the date the search was run (i.e. today's date)\n",
    "    now = dt.datetime.today().strftime(\"%d/%m/%Y\")\n",
    "    df['search_date'] = now\n",
    "\n",
    "# Export the results to CSV \n",
    "    csv_filename = 'rightmove_results_'+str(dt.datetime.today().strftime(\"%Y_%m_%d %H %M %S\"))+'.csv'\n",
    "    df.to_csv(csv_filename,encoding='utf-8')\n",
    "\n",
    "# Print message to validate search has run. I also want to immediately return the dataframe to pass straight\n",
    "# to pandas for analysis\n",
    "    print len(df),'results saved as \\'',csv_filename,'\\''\n",
    "    return df"
   ]
  },
  {
   "cell_type": "markdown",
   "metadata": {},
   "source": [
    "## Example use of the function"
   ]
  },
  {
   "cell_type": "markdown",
   "metadata": {},
   "source": [
    "In this example I have gone to http://www.rightmove.co.uk/ and performed a search for 1 bedroom flats to rent in the London Fields area of East London, filtering to show only listings added to the website in the last 7 days. From the first page of results I have copied the long url from the adddres bar, and am setting it to a variable called *rent_url*:"
   ]
  },
  {
   "cell_type": "code",
   "execution_count": 3,
   "metadata": {
    "collapsed": true
   },
   "outputs": [],
   "source": [
    "rent_url = 'http://www.rightmove.co.uk/property-to-rent/find.html?locationIdentifier=REGION%5E70417&numberOfPropertiesPerPage=24&radius=0.0&sortType=6&index=0&propertyTypes=detached%2Csemi-detached%2Cterraced%2Cflat%2Cbungalow&includeLetAgreed=false&viewType=LIST&areaSizeUnit=sqft&currencyCode=GBP'"
   ]
  },
  {
   "cell_type": "markdown",
   "metadata": {},
   "source": [
    "Now I simply run the function on this variable, passing 'rent' as the second argument since I have searched for rental properties:"
   ]
  },
  {
   "cell_type": "code",
   "execution_count": 4,
   "metadata": {
    "collapsed": false
   },
   "outputs": [
    {
     "name": "stdout",
     "output_type": "stream",
     "text": [
      "219 results saved as ' rightmove_results_2016_10_07 17 00 01.csv '\n"
     ]
    }
   ],
   "source": [
    "df = rightmove_webscrape(rent_url,'rent')"
   ]
  },
  {
   "cell_type": "markdown",
   "metadata": {},
   "source": [
    "We can look at the first few rows of data to see how the results appear:"
   ]
  },
  {
   "cell_type": "code",
   "execution_count": 5,
   "metadata": {
    "collapsed": false
   },
   "outputs": [
    {
     "data": {
      "text/html": [
       "<div>\n",
       "<table border=\"1\" class=\"dataframe\">\n",
       "  <thead>\n",
       "    <tr style=\"text-align: right;\">\n",
       "      <th></th>\n",
       "      <th>price</th>\n",
       "      <th>type</th>\n",
       "      <th>address</th>\n",
       "      <th>url</th>\n",
       "      <th>postcode</th>\n",
       "      <th>number_bedrooms</th>\n",
       "      <th>search_date</th>\n",
       "    </tr>\n",
       "  </thead>\n",
       "  <tbody>\n",
       "    <tr>\n",
       "      <th>0</th>\n",
       "      <td>2275</td>\n",
       "      <td>2 bedroom apartment</td>\n",
       "      <td>King Edward's Road, London, E9</td>\n",
       "      <td>http://www.rightmove.co.uk/property-to-rent/pr...</td>\n",
       "      <td>E9</td>\n",
       "      <td>2</td>\n",
       "      <td>07/10/2016</td>\n",
       "    </tr>\n",
       "    <tr>\n",
       "      <th>1</th>\n",
       "      <td>1387</td>\n",
       "      <td>1 bedroom apartment</td>\n",
       "      <td>Massie Road,E8 1BY</td>\n",
       "      <td>http://www.rightmove.co.uk/property-to-rent/pr...</td>\n",
       "      <td>E8</td>\n",
       "      <td>1</td>\n",
       "      <td>07/10/2016</td>\n",
       "    </tr>\n",
       "    <tr>\n",
       "      <th>2</th>\n",
       "      <td>1278</td>\n",
       "      <td>Studio flat</td>\n",
       "      <td>Dalston Lane, Hackney, E8</td>\n",
       "      <td>http://www.rightmove.co.uk/property-to-rent/pr...</td>\n",
       "      <td>E8</td>\n",
       "      <td>0</td>\n",
       "      <td>07/10/2016</td>\n",
       "    </tr>\n",
       "    <tr>\n",
       "      <th>3</th>\n",
       "      <td>1430</td>\n",
       "      <td>1 bedroom flat</td>\n",
       "      <td>Queensbridge Road, Dalston, E8</td>\n",
       "      <td>http://www.rightmove.co.uk/property-to-rent/pr...</td>\n",
       "      <td>E8</td>\n",
       "      <td>1</td>\n",
       "      <td>07/10/2016</td>\n",
       "    </tr>\n",
       "    <tr>\n",
       "      <th>4</th>\n",
       "      <td>1300</td>\n",
       "      <td>1 bedroom flat</td>\n",
       "      <td>Mare Street, London, E8</td>\n",
       "      <td>http://www.rightmove.co.uk/property-to-rent/pr...</td>\n",
       "      <td>E8</td>\n",
       "      <td>1</td>\n",
       "      <td>07/10/2016</td>\n",
       "    </tr>\n",
       "  </tbody>\n",
       "</table>\n",
       "</div>"
      ],
      "text/plain": [
       "   price                 type                         address  \\\n",
       "0   2275  2 bedroom apartment  King Edward's Road, London, E9   \n",
       "1   1387  1 bedroom apartment              Massie Road,E8 1BY   \n",
       "2   1278          Studio flat       Dalston Lane, Hackney, E8   \n",
       "3   1430       1 bedroom flat  Queensbridge Road, Dalston, E8   \n",
       "4   1300       1 bedroom flat         Mare Street, London, E8   \n",
       "\n",
       "                                                 url postcode number_bedrooms  \\\n",
       "0  http://www.rightmove.co.uk/property-to-rent/pr...       E9               2   \n",
       "1  http://www.rightmove.co.uk/property-to-rent/pr...       E8               1   \n",
       "2  http://www.rightmove.co.uk/property-to-rent/pr...       E8               0   \n",
       "3  http://www.rightmove.co.uk/property-to-rent/pr...       E8               1   \n",
       "4  http://www.rightmove.co.uk/property-to-rent/pr...       E8               1   \n",
       "\n",
       "  search_date  \n",
       "0  07/10/2016  \n",
       "1  07/10/2016  \n",
       "2  07/10/2016  \n",
       "3  07/10/2016  \n",
       "4  07/10/2016  "
      ]
     },
     "execution_count": 5,
     "metadata": {},
     "output_type": "execute_result"
    }
   ],
   "source": [
    "df.head()"
   ]
  },
  {
   "cell_type": "markdown",
   "metadata": {},
   "source": [
    "And finally just an example of what can be done with the data - let's produce the link(s) for the cheapest listings returned by our search:"
   ]
  },
  {
   "cell_type": "code",
   "execution_count": 6,
   "metadata": {
    "collapsed": false
   },
   "outputs": [
    {
     "data": {
      "text/plain": [
       "142    http://www.rightmove.co.uk/property-to-rent/property-43934307.html\n",
       "Name: url, dtype: object"
      ]
     },
     "execution_count": 6,
     "metadata": {},
     "output_type": "execute_result"
    }
   ],
   "source": [
    "pd.options.display.max_colwidth = 150\n",
    "df[df.price==df.price.min()]['url']"
   ]
  },
  {
   "cell_type": "markdown",
   "metadata": {},
   "source": [
    "### Error checking"
   ]
  },
  {
   "cell_type": "markdown",
   "metadata": {},
   "source": [
    "In the event that the search does not return results as expected it may be that the Xpaths have been changed in the html source code. The below will export the full html text file for inspection from wahetever url you set as the variable *url*:"
   ]
  },
  {
   "cell_type": "code",
   "execution_count": 8,
   "metadata": {
    "collapsed": false
   },
   "outputs": [],
   "source": [
    "url = rent_url\n",
    "page = requests.get(url)\n",
    "tree = html.fromstring(page.content)\n",
    "html_text=etree.tostring(tree)\n",
    "file = open(\"html.txt\", \"w\")\n",
    "file.write(html_text)\n",
    "file.close()"
   ]
  }
 ],
 "metadata": {
  "kernelspec": {
   "display_name": "Python 2",
   "language": "python",
   "name": "python2"
  },
  "language_info": {
   "codemirror_mode": {
    "name": "ipython",
    "version": 2
   },
   "file_extension": ".py",
   "mimetype": "text/x-python",
   "name": "python",
   "nbconvert_exporter": "python",
   "pygments_lexer": "ipython2",
   "version": "2.7.12"
  }
 },
 "nbformat": 4,
 "nbformat_minor": 0
}
